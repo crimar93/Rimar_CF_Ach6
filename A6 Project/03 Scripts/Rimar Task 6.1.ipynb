{
 "cells": [
  {
   "cell_type": "markdown",
   "id": "7dcda410",
   "metadata": {},
   "source": [
    "# Career Foundry - Achievement 6 - Task 1"
   ]
  },
  {
   "cell_type": "markdown",
   "id": "3853e94d",
   "metadata": {},
   "source": [
    "# Table of Contents\n",
    "## Import Libraries and Data\n",
    "## Step 6 - Data Cleaning and Consistency Checks\n",
    "### Explore Data\n",
    "### Check for Mixed-Type Data\n",
    "### Check for Missing Values\n",
    "### Check for Duplicate Values\n",
    "### Correct Issues in Birth Year Data\n",
    "## Step 7 - Descriptive Statistical Analysis"
   ]
  },
  {
   "cell_type": "markdown",
   "id": "46786eef",
   "metadata": {},
   "source": [
    "# Import Libraries and Data"
   ]
  },
  {
   "cell_type": "code",
   "execution_count": 1,
   "id": "da14704e",
   "metadata": {},
   "outputs": [],
   "source": [
    "#Import libraries\n",
    "import pandas as pd\n",
    "import numpy as np\n",
    "import os"
   ]
  },
  {
   "cell_type": "code",
   "execution_count": 2,
   "id": "473509a9",
   "metadata": {},
   "outputs": [],
   "source": [
    "#Import data\n",
    "path = r\"C:\\Users\\carol\\Documents\\Career Foundry\\6 Advanced Analytics & Dashboard Design\\A6 Project\"\n",
    "df = pd.read_csv(os.path.join(path, '02 Data', 'Original Data', 'citibike.csv'), index_col = False)"
   ]
  },
  {
   "cell_type": "markdown",
   "id": "1179bbfc",
   "metadata": {},
   "source": [
    "# Step 6 - Data Cleaning and Consistency Checks"
   ]
  },
  {
   "cell_type": "markdown",
   "id": "6feec2fe",
   "metadata": {},
   "source": [
    "## Explore Data"
   ]
  },
  {
   "cell_type": "code",
   "execution_count": 3,
   "id": "f896e10e",
   "metadata": {},
   "outputs": [
    {
     "data": {
      "text/html": [
       "<div>\n",
       "<style scoped>\n",
       "    .dataframe tbody tr th:only-of-type {\n",
       "        vertical-align: middle;\n",
       "    }\n",
       "\n",
       "    .dataframe tbody tr th {\n",
       "        vertical-align: top;\n",
       "    }\n",
       "\n",
       "    .dataframe thead th {\n",
       "        text-align: right;\n",
       "    }\n",
       "</style>\n",
       "<table border=\"1\" class=\"dataframe\">\n",
       "  <thead>\n",
       "    <tr style=\"text-align: right;\">\n",
       "      <th></th>\n",
       "      <th>trip_id</th>\n",
       "      <th>bike_id</th>\n",
       "      <th>weekday</th>\n",
       "      <th>start_hour</th>\n",
       "      <th>start_time</th>\n",
       "      <th>start_station_id</th>\n",
       "      <th>start_station_name</th>\n",
       "      <th>start_station_latitude</th>\n",
       "      <th>start_station_longitude</th>\n",
       "      <th>end_time</th>\n",
       "      <th>end_station_id</th>\n",
       "      <th>end_station_name</th>\n",
       "      <th>end_station_latitude</th>\n",
       "      <th>end_station_longitude</th>\n",
       "      <th>trip_duration</th>\n",
       "      <th>subscriber</th>\n",
       "      <th>birth_year</th>\n",
       "      <th>gender</th>\n",
       "    </tr>\n",
       "  </thead>\n",
       "  <tbody>\n",
       "    <tr>\n",
       "      <th>0</th>\n",
       "      <td>LnQzQk</td>\n",
       "      <td>16013</td>\n",
       "      <td>Mon</td>\n",
       "      <td>18</td>\n",
       "      <td>2013-09-09 18:18:55</td>\n",
       "      <td>523</td>\n",
       "      <td>W 38 St &amp; 8 Ave</td>\n",
       "      <td>40.754666</td>\n",
       "      <td>-73.991382</td>\n",
       "      <td>2013-09-09 18:35:28</td>\n",
       "      <td>334</td>\n",
       "      <td>W 20 St &amp; 7 Ave</td>\n",
       "      <td>40.742388</td>\n",
       "      <td>-73.997262</td>\n",
       "      <td>993</td>\n",
       "      <td>Subscriber</td>\n",
       "      <td>1968.0</td>\n",
       "      <td>2</td>\n",
       "    </tr>\n",
       "    <tr>\n",
       "      <th>1</th>\n",
       "      <td>IL9boN</td>\n",
       "      <td>15230</td>\n",
       "      <td>Thu</td>\n",
       "      <td>18</td>\n",
       "      <td>2013-09-12 18:38:53</td>\n",
       "      <td>257</td>\n",
       "      <td>Lispenard St &amp; Broadway</td>\n",
       "      <td>40.719392</td>\n",
       "      <td>-74.002472</td>\n",
       "      <td>2013-09-12 18:48:34</td>\n",
       "      <td>236</td>\n",
       "      <td>St Marks Pl &amp; 2 Ave</td>\n",
       "      <td>40.728419</td>\n",
       "      <td>-73.987140</td>\n",
       "      <td>581</td>\n",
       "      <td>Subscriber</td>\n",
       "      <td>1983.0</td>\n",
       "      <td>1</td>\n",
       "    </tr>\n",
       "    <tr>\n",
       "      <th>2</th>\n",
       "      <td>46clGB</td>\n",
       "      <td>17942</td>\n",
       "      <td>Wed</td>\n",
       "      <td>19</td>\n",
       "      <td>2013-09-18 19:44:04</td>\n",
       "      <td>479</td>\n",
       "      <td>9 Ave &amp; W 45 St</td>\n",
       "      <td>40.760193</td>\n",
       "      <td>-73.991255</td>\n",
       "      <td>2013-09-18 19:50:05</td>\n",
       "      <td>513</td>\n",
       "      <td>W 56 St &amp; 10 Ave</td>\n",
       "      <td>40.768254</td>\n",
       "      <td>-73.988639</td>\n",
       "      <td>361</td>\n",
       "      <td>Subscriber</td>\n",
       "      <td>1989.0</td>\n",
       "      <td>1</td>\n",
       "    </tr>\n",
       "    <tr>\n",
       "      <th>3</th>\n",
       "      <td>v7vdFt</td>\n",
       "      <td>19683</td>\n",
       "      <td>Sat</td>\n",
       "      <td>11</td>\n",
       "      <td>2013-09-28 11:54:37</td>\n",
       "      <td>527</td>\n",
       "      <td>E 33 St &amp; 1 Ave</td>\n",
       "      <td>40.743156</td>\n",
       "      <td>-73.974347</td>\n",
       "      <td>2013-09-28 12:03:58</td>\n",
       "      <td>441</td>\n",
       "      <td>E 52 St &amp; 2 Ave</td>\n",
       "      <td>40.756014</td>\n",
       "      <td>-73.967416</td>\n",
       "      <td>561</td>\n",
       "      <td>Subscriber</td>\n",
       "      <td>1988.0</td>\n",
       "      <td>2</td>\n",
       "    </tr>\n",
       "    <tr>\n",
       "      <th>4</th>\n",
       "      <td>VGBsb5</td>\n",
       "      <td>18024</td>\n",
       "      <td>Sat</td>\n",
       "      <td>18</td>\n",
       "      <td>2013-09-07 18:08:22</td>\n",
       "      <td>521</td>\n",
       "      <td>8 Ave &amp; W 31 St</td>\n",
       "      <td>40.750450</td>\n",
       "      <td>-73.994811</td>\n",
       "      <td>2013-09-07 18:46:38</td>\n",
       "      <td>476</td>\n",
       "      <td>E 31 St &amp; 3 Ave</td>\n",
       "      <td>40.743943</td>\n",
       "      <td>-73.979661</td>\n",
       "      <td>2296</td>\n",
       "      <td>Non-Subscriber</td>\n",
       "      <td>NaN</td>\n",
       "      <td>0</td>\n",
       "    </tr>\n",
       "  </tbody>\n",
       "</table>\n",
       "</div>"
      ],
      "text/plain": [
       "  trip_id  bike_id weekday  start_hour           start_time  start_station_id  \\\n",
       "0  LnQzQk    16013     Mon          18  2013-09-09 18:18:55               523   \n",
       "1  IL9boN    15230     Thu          18  2013-09-12 18:38:53               257   \n",
       "2  46clGB    17942     Wed          19  2013-09-18 19:44:04               479   \n",
       "3  v7vdFt    19683     Sat          11  2013-09-28 11:54:37               527   \n",
       "4  VGBsb5    18024     Sat          18  2013-09-07 18:08:22               521   \n",
       "\n",
       "        start_station_name  start_station_latitude  start_station_longitude  \\\n",
       "0          W 38 St & 8 Ave               40.754666               -73.991382   \n",
       "1  Lispenard St & Broadway               40.719392               -74.002472   \n",
       "2          9 Ave & W 45 St               40.760193               -73.991255   \n",
       "3          E 33 St & 1 Ave               40.743156               -73.974347   \n",
       "4          8 Ave & W 31 St               40.750450               -73.994811   \n",
       "\n",
       "              end_time  end_station_id     end_station_name  \\\n",
       "0  2013-09-09 18:35:28             334      W 20 St & 7 Ave   \n",
       "1  2013-09-12 18:48:34             236  St Marks Pl & 2 Ave   \n",
       "2  2013-09-18 19:50:05             513     W 56 St & 10 Ave   \n",
       "3  2013-09-28 12:03:58             441      E 52 St & 2 Ave   \n",
       "4  2013-09-07 18:46:38             476      E 31 St & 3 Ave   \n",
       "\n",
       "   end_station_latitude  end_station_longitude  trip_duration      subscriber  \\\n",
       "0             40.742388             -73.997262            993      Subscriber   \n",
       "1             40.728419             -73.987140            581      Subscriber   \n",
       "2             40.768254             -73.988639            361      Subscriber   \n",
       "3             40.756014             -73.967416            561      Subscriber   \n",
       "4             40.743943             -73.979661           2296  Non-Subscriber   \n",
       "\n",
       "   birth_year  gender  \n",
       "0      1968.0       2  \n",
       "1      1983.0       1  \n",
       "2      1989.0       1  \n",
       "3      1988.0       2  \n",
       "4         NaN       0  "
      ]
     },
     "execution_count": 3,
     "metadata": {},
     "output_type": "execute_result"
    }
   ],
   "source": [
    "df.head()"
   ]
  },
  {
   "cell_type": "code",
   "execution_count": 4,
   "id": "fb61bc5b",
   "metadata": {
    "scrolled": true
   },
   "outputs": [
    {
     "data": {
      "text/html": [
       "<div>\n",
       "<style scoped>\n",
       "    .dataframe tbody tr th:only-of-type {\n",
       "        vertical-align: middle;\n",
       "    }\n",
       "\n",
       "    .dataframe tbody tr th {\n",
       "        vertical-align: top;\n",
       "    }\n",
       "\n",
       "    .dataframe thead th {\n",
       "        text-align: right;\n",
       "    }\n",
       "</style>\n",
       "<table border=\"1\" class=\"dataframe\">\n",
       "  <thead>\n",
       "    <tr style=\"text-align: right;\">\n",
       "      <th></th>\n",
       "      <th>bike_id</th>\n",
       "      <th>start_hour</th>\n",
       "      <th>start_station_id</th>\n",
       "      <th>start_station_latitude</th>\n",
       "      <th>start_station_longitude</th>\n",
       "      <th>end_station_id</th>\n",
       "      <th>end_station_latitude</th>\n",
       "      <th>end_station_longitude</th>\n",
       "      <th>trip_duration</th>\n",
       "      <th>birth_year</th>\n",
       "      <th>gender</th>\n",
       "    </tr>\n",
       "  </thead>\n",
       "  <tbody>\n",
       "    <tr>\n",
       "      <th>count</th>\n",
       "      <td>50000.000000</td>\n",
       "      <td>50000.000000</td>\n",
       "      <td>50000.000000</td>\n",
       "      <td>50000.000000</td>\n",
       "      <td>50000.000000</td>\n",
       "      <td>50000.000000</td>\n",
       "      <td>50000.000000</td>\n",
       "      <td>50000.000000</td>\n",
       "      <td>50000.000000</td>\n",
       "      <td>43021.000000</td>\n",
       "      <td>50000.000000</td>\n",
       "    </tr>\n",
       "    <tr>\n",
       "      <th>mean</th>\n",
       "      <td>17615.269360</td>\n",
       "      <td>14.145240</td>\n",
       "      <td>443.321500</td>\n",
       "      <td>40.734170</td>\n",
       "      <td>-73.991109</td>\n",
       "      <td>442.539700</td>\n",
       "      <td>40.733859</td>\n",
       "      <td>-73.991351</td>\n",
       "      <td>838.982900</td>\n",
       "      <td>1975.627786</td>\n",
       "      <td>1.073540</td>\n",
       "    </tr>\n",
       "    <tr>\n",
       "      <th>std</th>\n",
       "      <td>1675.407446</td>\n",
       "      <td>4.860541</td>\n",
       "      <td>356.559925</td>\n",
       "      <td>0.019911</td>\n",
       "      <td>0.012555</td>\n",
       "      <td>355.756022</td>\n",
       "      <td>0.019885</td>\n",
       "      <td>0.012569</td>\n",
       "      <td>573.663997</td>\n",
       "      <td>11.089001</td>\n",
       "      <td>0.589389</td>\n",
       "    </tr>\n",
       "    <tr>\n",
       "      <th>min</th>\n",
       "      <td>14556.000000</td>\n",
       "      <td>0.000000</td>\n",
       "      <td>72.000000</td>\n",
       "      <td>40.680342</td>\n",
       "      <td>-74.017134</td>\n",
       "      <td>72.000000</td>\n",
       "      <td>40.680342</td>\n",
       "      <td>-74.017134</td>\n",
       "      <td>60.000000</td>\n",
       "      <td>1899.000000</td>\n",
       "      <td>0.000000</td>\n",
       "    </tr>\n",
       "    <tr>\n",
       "      <th>25%</th>\n",
       "      <td>16188.000000</td>\n",
       "      <td>10.000000</td>\n",
       "      <td>304.000000</td>\n",
       "      <td>40.720196</td>\n",
       "      <td>-74.000271</td>\n",
       "      <td>304.000000</td>\n",
       "      <td>40.720196</td>\n",
       "      <td>-74.001547</td>\n",
       "      <td>417.000000</td>\n",
       "      <td>1968.000000</td>\n",
       "      <td>1.000000</td>\n",
       "    </tr>\n",
       "    <tr>\n",
       "      <th>50%</th>\n",
       "      <td>17584.000000</td>\n",
       "      <td>15.000000</td>\n",
       "      <td>402.000000</td>\n",
       "      <td>40.735877</td>\n",
       "      <td>-73.990765</td>\n",
       "      <td>402.000000</td>\n",
       "      <td>40.735354</td>\n",
       "      <td>-73.991218</td>\n",
       "      <td>672.000000</td>\n",
       "      <td>1978.000000</td>\n",
       "      <td>1.000000</td>\n",
       "    </tr>\n",
       "    <tr>\n",
       "      <th>75%</th>\n",
       "      <td>19014.000000</td>\n",
       "      <td>18.000000</td>\n",
       "      <td>484.000000</td>\n",
       "      <td>40.750020</td>\n",
       "      <td>-73.981923</td>\n",
       "      <td>483.000000</td>\n",
       "      <td>40.749013</td>\n",
       "      <td>-73.982050</td>\n",
       "      <td>1112.000000</td>\n",
       "      <td>1984.000000</td>\n",
       "      <td>1.000000</td>\n",
       "    </tr>\n",
       "    <tr>\n",
       "      <th>max</th>\n",
       "      <td>20642.000000</td>\n",
       "      <td>23.000000</td>\n",
       "      <td>3002.000000</td>\n",
       "      <td>40.770513</td>\n",
       "      <td>-73.950048</td>\n",
       "      <td>3002.000000</td>\n",
       "      <td>40.770513</td>\n",
       "      <td>-73.950048</td>\n",
       "      <td>2697.000000</td>\n",
       "      <td>1997.000000</td>\n",
       "      <td>2.000000</td>\n",
       "    </tr>\n",
       "  </tbody>\n",
       "</table>\n",
       "</div>"
      ],
      "text/plain": [
       "            bike_id    start_hour  start_station_id  start_station_latitude  \\\n",
       "count  50000.000000  50000.000000      50000.000000            50000.000000   \n",
       "mean   17615.269360     14.145240        443.321500               40.734170   \n",
       "std     1675.407446      4.860541        356.559925                0.019911   \n",
       "min    14556.000000      0.000000         72.000000               40.680342   \n",
       "25%    16188.000000     10.000000        304.000000               40.720196   \n",
       "50%    17584.000000     15.000000        402.000000               40.735877   \n",
       "75%    19014.000000     18.000000        484.000000               40.750020   \n",
       "max    20642.000000     23.000000       3002.000000               40.770513   \n",
       "\n",
       "       start_station_longitude  end_station_id  end_station_latitude  \\\n",
       "count             50000.000000    50000.000000          50000.000000   \n",
       "mean                -73.991109      442.539700             40.733859   \n",
       "std                   0.012555      355.756022              0.019885   \n",
       "min                 -74.017134       72.000000             40.680342   \n",
       "25%                 -74.000271      304.000000             40.720196   \n",
       "50%                 -73.990765      402.000000             40.735354   \n",
       "75%                 -73.981923      483.000000             40.749013   \n",
       "max                 -73.950048     3002.000000             40.770513   \n",
       "\n",
       "       end_station_longitude  trip_duration    birth_year        gender  \n",
       "count           50000.000000   50000.000000  43021.000000  50000.000000  \n",
       "mean              -73.991351     838.982900   1975.627786      1.073540  \n",
       "std                 0.012569     573.663997     11.089001      0.589389  \n",
       "min               -74.017134      60.000000   1899.000000      0.000000  \n",
       "25%               -74.001547     417.000000   1968.000000      1.000000  \n",
       "50%               -73.991218     672.000000   1978.000000      1.000000  \n",
       "75%               -73.982050    1112.000000   1984.000000      1.000000  \n",
       "max               -73.950048    2697.000000   1997.000000      2.000000  "
      ]
     },
     "execution_count": 4,
     "metadata": {},
     "output_type": "execute_result"
    }
   ],
   "source": [
    "df.describe()"
   ]
  },
  {
   "cell_type": "markdown",
   "id": "18e4c5e5",
   "metadata": {},
   "source": [
    "Most of these numbers make sense. Based on the values in trip duration, I think the trip duration is most likely recorded in seconds. There is almost certainly an error in the birth year values, because it lists the minimum as 1899 and I highly doubt someone over 100 has used Citibike. I'll also need to figure out the meaning of the values used in gender, i.e. whether 1 = male or female, and whether 0 is a value used for people that marked an option like \"prefer not to answer\" or if it means non-binary."
   ]
  },
  {
   "cell_type": "markdown",
   "id": "9aa06f4e",
   "metadata": {},
   "source": [
    "## Check for Mixed-Type Data"
   ]
  },
  {
   "cell_type": "code",
   "execution_count": 5,
   "id": "881fe251",
   "metadata": {},
   "outputs": [],
   "source": [
    "#Check for mixed types\n",
    "for col in df.columns.tolist():\n",
    "  weird = (df[[col]].applymap(type) != df[[col]].iloc[0].apply(type)).any(axis = 1)\n",
    "  if len (df[weird]) > 0:\n",
    "    print (col)"
   ]
  },
  {
   "cell_type": "markdown",
   "id": "20d64116",
   "metadata": {},
   "source": [
    "There are no columns with mixed type data in the results dataframe"
   ]
  },
  {
   "cell_type": "markdown",
   "id": "bc55eba3",
   "metadata": {},
   "source": [
    "## Check for Missing Values"
   ]
  },
  {
   "cell_type": "code",
   "execution_count": 6,
   "id": "0728d6e3",
   "metadata": {},
   "outputs": [
    {
     "data": {
      "text/plain": [
       "trip_id                       0\n",
       "bike_id                       0\n",
       "weekday                       0\n",
       "start_hour                    0\n",
       "start_time                    0\n",
       "start_station_id              0\n",
       "start_station_name            0\n",
       "start_station_latitude        0\n",
       "start_station_longitude       0\n",
       "end_time                      0\n",
       "end_station_id                0\n",
       "end_station_name              0\n",
       "end_station_latitude          0\n",
       "end_station_longitude         0\n",
       "trip_duration                 0\n",
       "subscriber                    0\n",
       "birth_year                 6979\n",
       "gender                        0\n",
       "dtype: int64"
      ]
     },
     "execution_count": 6,
     "metadata": {},
     "output_type": "execute_result"
    }
   ],
   "source": [
    "#Check each column for missing values and sum them\n",
    "df.isnull().sum()"
   ]
  },
  {
   "cell_type": "markdown",
   "id": "06af5f51",
   "metadata": {},
   "source": [
    "Birth year has 6,979 missing values."
   ]
  },
  {
   "cell_type": "markdown",
   "id": "f37e1eba",
   "metadata": {},
   "source": [
    "## Check for Duplicate Values"
   ]
  },
  {
   "cell_type": "code",
   "execution_count": 7,
   "id": "0fd34494",
   "metadata": {},
   "outputs": [],
   "source": [
    "#Check for full duplicates in the dataframe\n",
    "df_dups = df[df.duplicated()]"
   ]
  },
  {
   "cell_type": "code",
   "execution_count": 8,
   "id": "f78fd320",
   "metadata": {},
   "outputs": [
    {
     "data": {
      "text/html": [
       "<div>\n",
       "<style scoped>\n",
       "    .dataframe tbody tr th:only-of-type {\n",
       "        vertical-align: middle;\n",
       "    }\n",
       "\n",
       "    .dataframe tbody tr th {\n",
       "        vertical-align: top;\n",
       "    }\n",
       "\n",
       "    .dataframe thead th {\n",
       "        text-align: right;\n",
       "    }\n",
       "</style>\n",
       "<table border=\"1\" class=\"dataframe\">\n",
       "  <thead>\n",
       "    <tr style=\"text-align: right;\">\n",
       "      <th></th>\n",
       "      <th>trip_id</th>\n",
       "      <th>bike_id</th>\n",
       "      <th>weekday</th>\n",
       "      <th>start_hour</th>\n",
       "      <th>start_time</th>\n",
       "      <th>start_station_id</th>\n",
       "      <th>start_station_name</th>\n",
       "      <th>start_station_latitude</th>\n",
       "      <th>start_station_longitude</th>\n",
       "      <th>end_time</th>\n",
       "      <th>end_station_id</th>\n",
       "      <th>end_station_name</th>\n",
       "      <th>end_station_latitude</th>\n",
       "      <th>end_station_longitude</th>\n",
       "      <th>trip_duration</th>\n",
       "      <th>subscriber</th>\n",
       "      <th>birth_year</th>\n",
       "      <th>gender</th>\n",
       "    </tr>\n",
       "  </thead>\n",
       "  <tbody>\n",
       "  </tbody>\n",
       "</table>\n",
       "</div>"
      ],
      "text/plain": [
       "Empty DataFrame\n",
       "Columns: [trip_id, bike_id, weekday, start_hour, start_time, start_station_id, start_station_name, start_station_latitude, start_station_longitude, end_time, end_station_id, end_station_name, end_station_latitude, end_station_longitude, trip_duration, subscriber, birth_year, gender]\n",
       "Index: []"
      ]
     },
     "execution_count": 8,
     "metadata": {},
     "output_type": "execute_result"
    }
   ],
   "source": [
    "#Print duplicates dataframe to see if there are any duplicates\n",
    "df_dups"
   ]
  },
  {
   "cell_type": "markdown",
   "id": "5549b3e8",
   "metadata": {},
   "source": [
    "There are no full duplicate values in the results dataframe"
   ]
  },
  {
   "cell_type": "markdown",
   "id": "5fdda101",
   "metadata": {},
   "source": [
    "## Correct Issues in Birth Year Data"
   ]
  },
  {
   "cell_type": "markdown",
   "id": "ff6f665d",
   "metadata": {},
   "source": [
    "Birth year is the only column that seems to have any issues (6979 missing values and a minimum year of 1899 which is very unlikely). "
   ]
  },
  {
   "cell_type": "code",
   "execution_count": 18,
   "id": "ff125f7a",
   "metadata": {
    "scrolled": true
   },
   "outputs": [
    {
     "data": {
      "text/plain": [
       "NaN       6979\n",
       "1985.0    1837\n",
       "1981.0    1830\n",
       "1982.0    1810\n",
       "1984.0    1798\n",
       "1983.0    1785\n",
       "1986.0    1714\n",
       "1980.0    1645\n",
       "1979.0    1537\n",
       "1987.0    1530\n",
       "1988.0    1503\n",
       "1978.0    1384\n",
       "1989.0    1302\n",
       "1977.0    1269\n",
       "1976.0    1261\n",
       "1974.0    1191\n",
       "1975.0    1155\n",
       "1970.0    1131\n",
       "1969.0    1054\n",
       "1972.0    1046\n",
       "1973.0    1018\n",
       "1971.0     969\n",
       "1990.0     932\n",
       "1968.0     888\n",
       "1967.0     888\n",
       "1966.0     833\n",
       "1963.0     761\n",
       "1965.0     738\n",
       "1964.0     691\n",
       "1962.0     677\n",
       "1960.0     622\n",
       "1961.0     554\n",
       "1959.0     534\n",
       "1991.0     473\n",
       "1957.0     462\n",
       "1958.0     431\n",
       "1956.0     398\n",
       "1992.0     395\n",
       "1955.0     349\n",
       "1953.0     321\n",
       "1993.0     314\n",
       "1954.0     311\n",
       "1952.0     239\n",
       "1951.0     209\n",
       "1950.0     179\n",
       "1994.0     149\n",
       "1948.0     147\n",
       "1949.0     130\n",
       "1947.0      96\n",
       "1995.0      82\n",
       "1996.0      67\n",
       "1946.0      60\n",
       "1945.0      57\n",
       "1944.0      41\n",
       "1942.0      37\n",
       "1943.0      35\n",
       "1997.0      26\n",
       "1940.0      20\n",
       "1941.0      18\n",
       "1935.0      14\n",
       "1932.0      10\n",
       "1900.0       9\n",
       "1899.0       8\n",
       "1939.0       8\n",
       "1937.0       7\n",
       "1938.0       7\n",
       "1933.0       5\n",
       "1901.0       5\n",
       "1936.0       4\n",
       "1922.0       3\n",
       "1934.0       2\n",
       "1910.0       1\n",
       "1929.0       1\n",
       "1917.0       1\n",
       "1926.0       1\n",
       "1924.0       1\n",
       "1921.0       1\n",
       "Name: birth_year, dtype: int64"
      ]
     },
     "execution_count": 18,
     "metadata": {},
     "output_type": "execute_result"
    }
   ],
   "source": [
    "df['birth_year'].value_counts(dropna = False)"
   ]
  },
  {
   "cell_type": "code",
   "execution_count": 19,
   "id": "e21065ba",
   "metadata": {},
   "outputs": [
    {
     "data": {
      "text/plain": [
       "trip_id                    41\n",
       "bike_id                    41\n",
       "weekday                    41\n",
       "start_hour                 41\n",
       "start_time                 41\n",
       "start_station_id           41\n",
       "start_station_name         41\n",
       "start_station_latitude     41\n",
       "start_station_longitude    41\n",
       "end_time                   41\n",
       "end_station_id             41\n",
       "end_station_name           41\n",
       "end_station_latitude       41\n",
       "end_station_longitude      41\n",
       "trip_duration              41\n",
       "subscriber                 41\n",
       "birth_year                 41\n",
       "gender                     41\n",
       "dtype: int64"
      ]
     },
     "execution_count": 19,
     "metadata": {},
     "output_type": "execute_result"
    }
   ],
   "source": [
    "df[df['birth_year'] < 1933].count()"
   ]
  },
  {
   "cell_type": "markdown",
   "id": "0ef2ed04",
   "metadata": {},
   "source": [
    "There are 41 records with an age greater than 80 (the data goes up to 2013). This accounts for 0.082% of the total data. Because it accounts for such a small portion of the data, I'm going to leave those years alone. "
   ]
  },
  {
   "cell_type": "code",
   "execution_count": 20,
   "id": "712316e9",
   "metadata": {
    "scrolled": true
   },
   "outputs": [
    {
     "data": {
      "text/plain": [
       "1    32361\n",
       "2    10658\n",
       "0     6981\n",
       "Name: gender, dtype: int64"
      ]
     },
     "execution_count": 20,
     "metadata": {},
     "output_type": "execute_result"
    }
   ],
   "source": [
    "df['gender'].value_counts(dropna = False)"
   ]
  },
  {
   "cell_type": "code",
   "execution_count": null,
   "id": "c6ae1d41",
   "metadata": {
    "scrolled": true
   },
   "outputs": [],
   "source": [
    "df[df['gender'] == 0]"
   ]
  },
  {
   "cell_type": "code",
   "execution_count": 22,
   "id": "614bc4ba",
   "metadata": {
    "scrolled": true
   },
   "outputs": [
    {
     "data": {
      "text/plain": [
       "Subscriber        43021\n",
       "Non-Subscriber     6979\n",
       "Name: subscriber, dtype: int64"
      ]
     },
     "execution_count": 22,
     "metadata": {},
     "output_type": "execute_result"
    }
   ],
   "source": [
    "df['subscriber'].value_counts(dropna = False)"
   ]
  },
  {
   "cell_type": "markdown",
   "id": "a91c176f",
   "metadata": {},
   "source": [
    "I dug deeper into the data and found that the data with missing birth years corresponds to non-subscribers (these records also have gender = 0). This makes sense since non-subscibers would probably not be required to enter personal information like that. Since these records already have a non-subscriber flag I'm going to leave them alone for now."
   ]
  },
  {
   "cell_type": "markdown",
   "id": "d1ff178d",
   "metadata": {},
   "source": [
    "# Step 7 - Descriptive Statistical Analysis"
   ]
  },
  {
   "cell_type": "code",
   "execution_count": 23,
   "id": "b83dfdb2",
   "metadata": {},
   "outputs": [],
   "source": [
    "#Export descriptive statistical analysis for results data\n",
    "dsa = df.describe()\n",
    "dsa.to_clipboard()"
   ]
  }
 ],
 "metadata": {
  "kernelspec": {
   "display_name": "Python 3 (ipykernel)",
   "language": "python",
   "name": "python3"
  },
  "language_info": {
   "codemirror_mode": {
    "name": "ipython",
    "version": 3
   },
   "file_extension": ".py",
   "mimetype": "text/x-python",
   "name": "python",
   "nbconvert_exporter": "python",
   "pygments_lexer": "ipython3",
   "version": "3.10.9"
  }
 },
 "nbformat": 4,
 "nbformat_minor": 5
}
